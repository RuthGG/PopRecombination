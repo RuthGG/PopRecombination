{
 "cells": [
  {
   "cell_type": "code",
   "execution_count": null,
   "metadata": {},
   "outputs": [],
   "source": [
    "# Citations\n",
    "# <cite data-cite=\"datarray_meeting\">(Granger, 2013)</cite>\n",
    "# <strong data-cite=\"datarray_meeting\">(Granger, 2013)</strong>\n",
    "# <cite data-cite=\"Bherer2017\"></cite>\n",
    "\n",
    "#  Convert to pdf: \n",
    "# jupyter nbconvert --to pdf --template template.tplx --no-input 20211117_LocationPatterns1.ipynb  "
   ]
  },
  {
   "cell_type": "code",
   "execution_count": 2,
   "metadata": {},
   "outputs": [],
   "source": [
    "# Initiate notebook with packages\n",
    "# -------------------------------\n",
    "\n",
    "from pandas import Series, DataFrame\n",
    "import pandas as pd\n",
    "import numpy as np\n",
    "import rpy2.rinterface\n",
    "%load_ext rpy2.ipython\n",
    "import random \n",
    "import scipy.stats\n",
    "# import math\n",
    "from plotnine import  ggplot, data, geom_histogram, aes, geom_bar, geom_rect,geom_hline, scale_x_discrete,  theme, element_text, ggtitle, xlab, ylab, facet_wrap, geom_point, stat_smooth, annotate, geom_text, geom_boxplot, geom_col, facet_grid\n",
    "import warnings\n",
    "warnings.filterwarnings('ignore')\n"
   ]
  },
  {
   "cell_type": "code",
   "execution_count": 4,
   "metadata": {},
   "outputs": [],
   "source": [
    "\n",
    "# Set working directory\n",
    "# ------------------------------\n",
    "os.chdir(\"../../\")"
   ]
  },
  {
   "cell_type": "markdown",
   "metadata": {},
   "source": [
    "# Background\n",
    "\n"
   ]
  },
  {
   "cell_type": "markdown",
   "metadata": {},
   "source": [
    "In this report we try to answer to the question: are inversions less (or more) likely to become polymorphic under certain recombinatory contexts? \n",
    "Specifically, we test whether there is a tendency to avoid extremely high recombination rates (putative hotspots) and favor low-recombination regions (putative coldspots). "
   ]
  },
  {
   "cell_type": "code",
   "execution_count": 148,
   "metadata": {},
   "outputs": [
    {
     "name": "stdout",
     "output_type": "stream",
     "text": [
      "We will be analyzing 133 inversions, 54 NAHR and 79 NH.\n"
     ]
    }
   ],
   "source": [
    "# Set figure counter for text\n",
    "# ------------------------------\n",
    "figcounter = 1\n",
    "\n",
    "# Load chromosome data\n",
    "# -------------------------------\n",
    "\n",
    "# gap = pd.read_csv('data/raw/gap.txt', sep = '\\t', header = None )\n",
    "# gap.set_axis(['bin','chrom','chromStart','chromEnd','ix','n','size','type','bridge'], axis = 1, inplace = True)\n",
    "\n",
    "# band = pd.read_csv('data/raw/cytoBand.txt', sep = '\\t', header = None )\n",
    "# band.set_axis(['chrom','chromStart','chromEnd','name','gieStain'], axis = 1, inplace = True)\n",
    "\n",
    "sizes = pd.read_csv('data/raw/chrSizes.txt', sep = '\\t')\n",
    "\n",
    "# genSize = pd.read_csv(\"data/use/BhererGeneticDistance.txt\", sep = \"\\t\", header = None)\n",
    "# genSize.set_axis([\"Chromosome\", \"Position\", \"Rate\", \"cM\"] ,axis = 1, inplace = True)\n",
    "\n",
    "# recRate = pd.read_csv(\"data/use/BhererAllChroms.txt\", sep = \"\\t\", header = None)\n",
    "# recRate.set_axis([\"Chromosome\", \"Position\", \"Rate\", \"cM\"] ,axis = 1, inplace = True)\n",
    "\n",
    "# Load repeat data\n",
    "# -------------------------------\n",
    "\n",
    "# segDups = pd.read_csv('data/raw/genomicSuperDups.txt', sep = '\\t'  )\n",
    "\n",
    "# Load and clean inversion data\n",
    "# -------------------------------\n",
    "\n",
    "inv = pd.read_csv('data/use/InversionsAnnotation_133Inv_20211117.csv', sep = '\\t', skiprows=1, skip_blank_lines=True)\n",
    "inv = inv.iloc[:,[0,1,2,11,12,13,14]]\n",
    "inv = inv.dropna()\n",
    "\n",
    "Ori_fixed =  inv[\"Origin\"].replace(regex = [\"NAHR.*\"], value = \"NAHR\" )\n",
    "Ori_fixed = Ori_fixed.replace(regex = [\"NH.*\"], value = \"NH\" )\n",
    "inv[\"OriginFixed\"] = Ori_fixed\n",
    "inv[\"CenterPos\"] = inv[\"BP1_1.1\"] + ((inv[\"BP2_2.1\"]- inv[\"BP1_1.1\"] +1 )/2) -1 # now it is 0-based\n",
    "\n",
    "\n",
    "print(f\"\"\"We will be analyzing {inv.shape[0]} inversions, {Ori_fixed[Ori_fixed == \"NAHR\"].count()} NAHR and {Ori_fixed[Ori_fixed == \"NH\"].count()} NH.\"\"\")\n"
   ]
  },
  {
   "cell_type": "markdown",
   "metadata": {},
   "source": [
    "# Extreme recombination rates calculation\n"
   ]
  },
  {
   "cell_type": "markdown",
   "metadata": {},
   "source": [
    "One of our main concerns is how to define extreme recombination regions (ERRs). In pedigree-based maps analysis, it is a common practice to calculate the standarized recombination rate (SRR), which is obtained by relativizing each rate to the population mean recombination rate <cite data-cite=\"Bherer2017\"></cite>. Usually, it is considered high recombination rate when SRR>10 <cite data-cite=\"Farre2013\"></cite><cite data-cite=\"Kong2010\"></cite>, which corresponds to the ~1% most extreme values in the distribution. In our case, we are using the population-based recombination map from <cite data-cite=\"Spenceeaaw9206\"></cite>, and I will try to keep values as raw as possible to avoid unnecessary biases."
   ]
  },
  {
   "cell_type": "code",
   "execution_count": null,
   "metadata": {},
   "outputs": [],
   "source": [
    "# How extreme is SRR>10?\n",
    "\n",
    "bhererMap = pd.read_csv(\"data/use/CEU_SRR.bed\", sep = \"\\t\", header = None)\n",
    "\n",
    "from scipy import stats\n",
    "\n",
    "# To know the answer, run:\n",
    "# (100 - round(stats.percentileofscore(bhererMap[3], 10), 0))"
   ]
  },
  {
   "cell_type": "markdown",
   "metadata": {},
   "source": [
    "In addition, I will explore multiple thresholds when defining ERRs to see how are inversions located relative to milder and harder hotspots and coldspots. \n",
    "<!-- As a visual reference, [FIGNUM] shows the distribution of recombination rates for the CEU population in the population-based map.  -->"
   ]
  },
  {
   "cell_type": "code",
   "execution_count": null,
   "metadata": {},
   "outputs": [],
   "source": [
    "# Load recombination files list\n",
    "# os.listdir(\"data/raw/hg19/KHV/\")\n",
    "chrom = \"8\"\n",
    "pop=\"CEU\"\n",
    "sig = 0.999\n",
    "namesig = \"Quantile_\"+str(sig)\n",
    "\n",
    "genSize = pd.read_csv(\"data/raw/hg19/\"+pop+\"/\"+pop+\"_recombination_map_hapmap_format_hg19_chr_\"+chrom+\".txt\", sep = \"\\t\")\n",
    "\n",
    "# genSize[\"Rate(cM/Mb)\"].describe()\n",
    "\n",
    "threshold = np.quantile(genSize[\"Rate(cM/Mb)\"], sig)\n",
    "\n",
    "genSize[namesig] = genSize[\"Rate(cM/Mb)\"] > threshold\n",
    "\n",
    "(\n",
    "    ggplot()+\n",
    "    geom_point(genSize, aes(x = \"Position(bp)\", y = \"Rate(cM/Mb)\", color = namesig))+\n",
    "    geom_rect( inv[inv.Chr == \"chr\"+chrom], aes(xmax = \"BP1_1.1\", xmin = \"BP2_2.1\", ymax = np.inf , ymin=0,  fill = \"OriginFixed\"), alpha = 0.5)+\n",
    "    geom_hline(yintercept =max(genSize[\"Rate(cM/Mb)\"])+20, color = \"gray\", alpha = 0.5)+\n",
    "    geom_point( inv[inv.Chr == \"chr\"+chrom], aes(x = \"CenterPos\", y = max(genSize[\"Rate(cM/Mb)\"]+20), fill = \"OriginFixed\"),shape = 7 , size = 3)+\n",
    "    ggtitle(\"Chromosome \"+chrom+\" in \"+pop+\" population\")\n",
    ")"
   ]
  },
  {
   "cell_type": "markdown",
   "metadata": {},
   "source": [
    "# Association analysis with GAT"
   ]
  },
  {
   "cell_type": "markdown",
   "metadata": {},
   "source": [
    "The genomic association tester (GAT) is a python package that makes permutation analyses to test for association between sets of genomic intervals.\n",
    "One or more tracks of segments and one or more tracks of annotations are required as input, and the program returns observed and expected number of overlapping nucleotides between the segments and the annotations, the corresponding fold-change, and the empirical p-value and q-value, among other useful measurements. \n",
    "\n",
    "The same randomization of a set of segments (e.g. inversions) can be compared against multiple annotations (e.g. hotspots and coldspots), to test for a significant enrichment of any annotation in the segments, and different segments can be tested for enrichment of the same annotation. In either case, even when significant enrichments are found, inferences about the difference between two fold-change measurements are not possible. For exampe, we can not say with statistical confidence that a segment 2-fold significantly enriched in annotation A and 3-fold in annotation B is more enriched in B elements, because A elements could be more abundant in the genome. To contrast fold enrichments of different sets of segments against the same annotation, there is a tool implemented in GAT. "
   ]
  },
  {
   "cell_type": "code",
   "execution_count": 144,
   "metadata": {},
   "outputs": [],
   "source": [
    "# Additional files for GAT\n",
    "# Question: The question we ask is whether within the genome (== WORKSPACE), \n",
    "# (SRF binding events == INVERSIONS == SEGMENTS) \n",
    "# are in regions of (open chromatin == HIGH REC == ANNOTATIONS) as identified by (DNAse I hypersensitive sites == ERRs).\n",
    "# WORKSPACE\n",
    "sizes[\"start\"] = 0\n",
    "workspace = sizes[[\"Chromosome\", \"start\", \"Totallength(bp)\"]]\n",
    "workspace\n",
    "\n",
    "workspace.to_csv(\"report/20211213_LocationPatterns2/analysis/contigs.bed\", sep = \"\\t\", header=False, index = False)\n",
    "\n",
    "# SEGMENTS (inversions)\n",
    "segments = inv[[\"Chr\", \"BP1_1.1\", \"BP2_2.1\", \"INV\"]]\n",
    "segments_NH = inv[inv[\"OriginFixed\"] == \"NH\"][[\"Chr\", \"BP1_1.1\", \"BP2_2.1\", \"INV\"]]\n",
    "segments_NAHR = inv[inv[\"OriginFixed\"] == \"NAHR\"][[\"Chr\", \"BP1_1.1\", \"BP2_2.1\", \"INV\"]]\n",
    "\n",
    "segments.to_csv(\"report/20211213_LocationPatterns2/analysis/segments.bed\", sep = \"\\t\", header=False, index = False)\n",
    "segments_NH.to_csv(\"report/20211213_LocationPatterns2/analysis/segments_NH.bed\", sep = \"\\t\", header=False, index = False)\n",
    "segments_NAHR.to_csv(\"report/20211213_LocationPatterns2/analysis/segments_NAHR.bed\", sep = \"\\t\", header=False, index = False)\n",
    "\n",
    "# ANNOTATIONS (ERRs)\n",
    "recRates = pd.read_csv(\"report/20211213_LocationPatterns2/analysis/CEU_recombination_map_hg19_allChr.bed\", sep = \"\\t\")\n",
    "recRates.set_axis([\"Chrom\", \"start\", \"end\", \"recrate_base_gen\"], axis = 1, inplace= True)\n",
    "\n",
    "pvals = [0.001, 0.01, 0.05, 0.95, 0.99,0.999]\n",
    "\n",
    "annotations = DataFrame()\n",
    "\n",
    "for sig in pvals:\n",
    "\n",
    "    threshold = np.quantile(recRates[\"recrate_base_gen\"], sig)\n",
    "\n",
    "    if sig > 0.5:\n",
    "        #  Hotspots\n",
    "        namesig = \"Hotspot_\"+str( sig )\n",
    "        recRates[namesig] = recRates[\"recrate_base_gen\"] > threshold\n",
    "    else :\n",
    "        # Coldspots\n",
    "        namesig = \"Coldspot_\"+str(sig)\n",
    "        recRates[namesig] = recRates[\"recrate_base_gen\"] < threshold\n",
    "\n",
    "    subannot = recRates[recRates[namesig]][[\"Chrom\", \"start\", \"end\"]]\n",
    "    subannot[\"trackName\"] = namesig\n",
    "    annotations = annotations.append(subannot, ignore_index=True)\n",
    "\n",
    "annotations.to_csv(\"report/20211213_LocationPatterns2/analysis/annotations.bed\", sep = \"\\t\", header=False, index = False)\n",
    "\n",
    "\n",
    "# gat-run.py --segments=segments.bed --annotations=annotations.bed --workspace=contigs.bed --num-samples=10000 --log=gat.log > gat.tsv \n",
    "\n",
    "# This analysis\n",
    "# gat-run.py --segments=analysis/segments.bed --annotations=analysis/annotations.bed --workspace=analysis/contigs.bed --num-samples=100000 --log=analysis/gat.log > analysis/gat.tsv \n",
    "# gat-run.py --segments=analysis/segments_NH.bed --annotations=analysis/annotations.bed --workspace=analysis/contigs.bed --num-samples=100000 --log=analysis/gat.log > analysis/gat_NH.tsv \n",
    "# gat-run.py --segments=analysis/segments_NAHR.bed --annotations=analysis/annotations.bed --workspace=analysis/contigs.bed --num-samples=100000 --log=analysis/gat.log > analysis/gat_NAHR.tsv \n"
   ]
  },
  {
   "cell_type": "code",
   "execution_count": 145,
   "metadata": {},
   "outputs": [],
   "source": [
    "# Analysis of GAT output\n",
    "\n",
    "gatResult = pd.read_csv(\"report/20211213_LocationPatterns2/analysis/gat.tsv\", sep = \"\\t\", header = 0)\n",
    "gatResult_NH = pd.read_csv(\"report/20211213_LocationPatterns2/analysis/gat_NH.tsv\", sep = \"\\t\", header = 0)\n",
    "gatResult_NAHR = pd.read_csv(\"report/20211213_LocationPatterns2/analysis/gat_NAHR.tsv\", sep = \"\\t\", header = 0)\n",
    "\n",
    "gatResult = gatResult.append(gatResult_NH, ignore_index=True)\n",
    "gatResult = gatResult.append(gatResult_NAHR, ignore_index=True)\n",
    "\n",
    "\n",
    "gatResult[\"track\"] = gatResult.track_nsegments.replace([133, 79, 54], [\"all\", \"NH\", \"NAHR\"])\n",
    "\n",
    "gatResult[\"p-value\"] = \"\"\n",
    "gatResult.loc[gatResult['pvalue'] <=0.05, 'p-value'] = \"*\"\n",
    "gatResult.loc[gatResult['pvalue'] <=0.01, 'p-value'] = \"**\"\n",
    "gatResult.loc[gatResult['pvalue'] <=0.001, 'p-value'] = \"***\"\n",
    "\n",
    "gatResult[\"q-value\"] = \"\"\n",
    "gatResult.loc[gatResult['qvalue'] <=0.05, 'q-value'] = \"*\"\n",
    "gatResult.loc[gatResult['qvalue'] <=0.01, 'q-value'] = \"**\"\n",
    "gatResult.loc[gatResult['qvalue'] <=0.001, 'q-value'] = \"***\"\n"
   ]
  },
  {
   "cell_type": "markdown",
   "metadata": {},
   "source": [
    "I have tested GAT using the CEU population historical recombination measurements and 100000 permutations. The annotations were high recombination regions (Hotspots) above the 5, 1, and 0.1% most extreme and low recombination regions (Coldspots) below the 5, 1 and 0.1% most extreme. The most remarkable results have been summarized in Figure 1. \n",
    "\n"
   ]
  },
  {
   "cell_type": "code",
   "execution_count": 146,
   "metadata": {},
   "outputs": [
    {
     "data": {
      "image/png": "[encoded data removed]",
      "text/plain": [
       "<Figure size 640x480 with 6 Axes>"
      ]
     },
     "metadata": {},
     "output_type": "display_data"
    },
    {
     "data": {
      "text/plain": [
       "<ggplot: (8769247801766)>"
      ]
     },
     "execution_count": 146,
     "metadata": {},
     "output_type": "execute_result"
    }
   ],
   "source": [
    "\n",
    "(\n",
    "    ggplot(gatResult)+\n",
    "    geom_bar(aes(x = \"track\", y = \"l2fold\"), stat=\"identity\")+\n",
    "    geom_text(aes(x = \"track\", y = max(gatResult[\"l2fold\"]), label = \"p-value\"), color =\"blue\")+\n",
    "    geom_text(aes(x = \"track\", y = max(gatResult[\"l2fold\"])+1, label = \"q-value\"), color = \"red\")+\n",
    "    facet_wrap(\"annotation\")+\n",
    "    ylab(\"log2( Fold change )\")+\n",
    "    xlab(\"Segment tracks\")+\n",
    "    theme( axis_text_x = element_text(angle = 90, vjust = 1))+\n",
    "    ggtitle(\"Summarized GAT result\\nInversions vs. ERRs in CEU\")\n",
    "\n",
    ")"
   ]
  },
  {
   "cell_type": "code",
   "execution_count": 149,
   "metadata": {},
   "outputs": [
    {
     "name": "stdout",
     "output_type": "stream",
     "text": [
      "Figure 1: Summary of GAT results when testing the overlap between inversions and ERRs. Remember that the magnitudes of fold-changes are not comparable. Significant p-values are indicated in blue and significant q-values in red. \n"
     ]
    }
   ],
   "source": [
    "print(f\"\"\"Figure {figcounter}: Summary of GAT results when testing the overlap between inversions and ERRs. Remember that the magnitudes of fold-changes are not comparable. Significant p-values are indicated in blue and significant q-values in red. \"\"\") \n",
    "figcounter+=1\n",
    "\n"
   ]
  },
  {
   "cell_type": "markdown",
   "metadata": {},
   "source": [
    "NAHR inversions tend to avoid extreme coldspots, probably because higher recombination rates favor their generation. NH inversions, on the other hand, are significantly enriched in extremely low recombination regions, which may be favorable because that way the probability of generating chromosomal aberrations during meiosis is lower.\n",
    "\n",
    "Regarding hotspots, there are some non-significant fold changes < -8. In all four cases, the observed overlap between segment and track is 0, but the corresponding confidence interval is very broad and includes 0 as an expected value. This is caused by the scarcity of hotspots above the 0.1% most extreme in the 'Hotspot_0.999' panel, and by the small size of NH inversions in the 'Hotspot_0.99' panel, both of which make likely an overlap of 0 nucleotides between tracks. Both NH and NAHR inversions seem to avoid regions that have the highest 1% recombination rates in the genome.\n"
   ]
  },
  {
   "cell_type": "markdown",
   "metadata": {},
   "source": [
    "# Limitations and further work"
   ]
  },
  {
   "cell_type": "markdown",
   "metadata": {},
   "source": [
    "This analysis is only a proof of concept, and many adjustments are still required, some of which may need discussion: \n",
    "\n",
    "* As stated in the GAT documentation, if the section of the genome to use as a base for the permutations (workspace) is too large, fold enrichment values will be too optimistic. The workspace should be limited to those regions where the analysis is actually feasible and regions where any of the tracks could not be calculated should be excluded. As a starting point, regions where inversion detection is not possible and regions where the recombination rate windows are very large, indicating low SNP density and less reliable estimates, should be discarded. \n",
    "* Properties of the sequence that are potentially correlated with the segment of interest and the annotations, but that are not interesting in out experiment (e.g. GC content, repeat density, gene/exon density), can be controlled by adding them as isochore tracks. These will be used to divide the workspace into smaller segments with similar properties.\n",
    "* HsInv0501 due to its large size and HsInv0573 as a recombination-increasing factor, can be confounding, so we should test if removing them alters the identified patterns. \n",
    "\n",
    "Once the enrichment analysis is adjusted to our needs, I will repeat it for multiple populations, which should not require long computing times, because GAT is fast and parallelizable. This will add robustness to our result by confirming whether this pattern is consistent along populations or meta-populations. \n",
    "\n",
    "> **Note:** before the analysis of each opulation, we should delete those inversions with frequency 0 from the segments track. \n",
    "\n"
   ]
  }
 ],
 "metadata": {
  "celltoolbar": "Edit Metadata",
  "interpreter": {
   "hash": "76d9afec17f4caf1537deb82d7ded46444858aa9fbc0e108ba0ca185db51c09c"
  },
  "kernelspec": {
   "display_name": "Python 3.8.12 64-bit ('base': conda)",
   "name": "python3"
  },
  "language_info": {
   "codemirror_mode": {
    "name": "ipython",
    "version": 3
   },
   "file_extension": ".py",
   "mimetype": "text/x-python",
   "name": "python",
   "nbconvert_exporter": "python",
   "pygments_lexer": "ipython3",
   "version": "3.8.12"
  },
  "varInspector": {
   "cols": {
    "lenName": 16,
    "lenType": 16,
    "lenVar": 40
   },
   "kernels_config": {
    "python": {
     "delete_cmd_postfix": "",
     "delete_cmd_prefix": "del ",
     "library": "var_list.py",
     "varRefreshCmd": "print(var_dic_list())"
    },
    "r": {
     "delete_cmd_postfix": ") ",
     "delete_cmd_prefix": "rm(",
     "library": "var_list.r",
     "varRefreshCmd": "cat(var_dic_list()) "
    }
   },
   "types_to_exclude": [
    "module",
    "function",
    "builtin_function_or_method",
    "instance",
    "_Feature"
   ],
   "window_display": false
  }
 },
 "nbformat": 4,
 "nbformat_minor": 2
}
