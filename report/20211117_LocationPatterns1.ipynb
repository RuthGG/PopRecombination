{
 "cells": [
  {
   "cell_type": "markdown",
   "source": [
    "# Location patterns 1 - global chromosome characteristics\n",
    "\n",
    "This notebook explores the relationship between inversion coordinates and chromosome characteristics related to recombination rates. \n",
    "\n"
   ],
   "metadata": {}
  },
  {
   "cell_type": "code",
   "execution_count": 1,
   "source": [
    "# Initiate notebook with packages\n",
    "\n",
    "from pandas import Series, DataFrame\n",
    "import pandas as pd\n",
    "import numpy as np\n",
    "from plotnine import ggplot, geom_histogram, aes, geom_bar, scale_x_discrete, theme, element_text\n"
   ],
   "outputs": [],
   "metadata": {}
  },
  {
   "cell_type": "markdown",
   "source": [
    "## Raw data upload"
   ],
   "metadata": {}
  },
  {
   "cell_type": "code",
   "execution_count": 2,
   "source": [
    "# Load chromosome data\n",
    "\n",
    "gap = pd.read_csv('../data/raw/gap.txt', sep = '\\t', header = None )\n",
    "gap.set_axis(['bin','chrom','chromStart','chromEnd','ix','n','size','type','bridge'], axis = 1, inplace = True)\n",
    "\n",
    "\n",
    "band = pd.read_csv('../data/raw/cytoBand.txt', sep = '\\t', header = None )\n",
    "band.set_axis(['chrom','chromStart','chromEnd','name','gieStain'], axis = 1, inplace = True)\n",
    "\n",
    "# Load and clean inversion data\n",
    "\n",
    "inv = pd.read_csv('../data/use/InversionsAnnotation_133Inv_20211117.csv', sep = '\\t', skiprows=1, skip_blank_lines=True)\n",
    "inv = inv.iloc[:,[0,1,2,11,12,13,14]]\n",
    "inv = inv.dropna()\n",
    "\n",
    "print(\"We will be analyzing \" + str(inv.shape[0]) + \" inversions\")\n"
   ],
   "outputs": [
    {
     "output_type": "stream",
     "name": "stdout",
     "text": [
      "We will be analyzing 135 inversions\n"
     ]
    }
   ],
   "metadata": {}
  },
  {
   "cell_type": "markdown",
   "source": [
    "## General distribution by chromosomes"
   ],
   "metadata": {}
  },
  {
   "cell_type": "code",
   "execution_count": 7,
   "source": [
    "# Make barplot values \n",
    "hist = DataFrame(inv.Chr.value_counts())\n",
    "\n",
    "# Set chromosome names list\n",
    "a = np.char.array(list(map(str,range(1,22)))+[\"X\", \"Y\"])\n",
    "b = np.char.array([\"chr\"] * 23)\n",
    "chrNames = b+a \n",
    "\n",
    "# Make plot \n",
    "(\n",
    "    ggplot(hist)+\n",
    "        geom_bar(aes(x = hist.index, y = \"Chr\"), stat=\"identity\")#+\n",
    "        scale_x_discrete(limits = chrNames)#+\n",
    "        # theme( axis.text.x = element_text(angle = 90, vjust = 0.5, hjust=1))\n",
    ")\n",
    "\n"
   ],
   "outputs": [
    {
     "output_type": "display_data",
     "data": {
      "image/png": "[encoded data removed]",
      "text/plain": [
       "<Figure size 640x480 with 1 Axes>"
      ]
     },
     "metadata": {}
    },
    {
     "output_type": "execute_result",
     "data": {
      "text/plain": [
       "<ggplot: (8733939200353)>"
      ]
     },
     "metadata": {},
     "execution_count": 7
    }
   ],
   "metadata": {}
  },
  {
   "cell_type": "markdown",
   "source": [
    "## Relative position within chromosome"
   ],
   "metadata": {}
  },
  {
   "cell_type": "code",
   "execution_count": 4,
   "source": [
    "# Select centromeres as p arm End\n",
    "center = band[(band['gieStain'] == 'acen') & (band['name'].str.startswith('p') )]\n",
    "center = center[['chrom', 'chromEnd']]\n",
    "\n",
    "# Select chromosome end as q arm End\n",
    "groupedBand = band['chromEnd'].groupby(band['chrom'])\n",
    "end = DataFrame(groupedBand.max() )\n",
    "end.reset_index(level=['chrom'], inplace = True)\n",
    "\n",
    "# Set q arm Start\n",
    "end = pd.merge(end, center, on = 'chrom')\n",
    "end.set_axis(['chrom','chromEnd','chromStart'], axis = 1, inplace = True)\n",
    "\n",
    "# Set p arm Start\n",
    "center['chromStart'] = 0\n",
    "\n",
    "# Set p and q flags\n",
    "center['chromArm']='p'\n",
    "end['chromArm']='q'\n",
    "\n",
    "# Join data\n",
    "chromArms = pd.concat([center, end])\n"
   ],
   "outputs": [],
   "metadata": {}
  },
  {
   "cell_type": "markdown",
   "source": [
    "## Distribution within chromosome and inversion groups"
   ],
   "metadata": {}
  },
  {
   "cell_type": "markdown",
   "source": [
    "## Relationship with chromosome mean recombination rate\n"
   ],
   "metadata": {}
  }
 ],
 "metadata": {
  "kernelspec": {
   "name": "python3",
   "display_name": "Python 3.8.3 64-bit ('base': conda)"
  },
  "language_info": {
   "codemirror_mode": {
    "name": "ipython",
    "version": 3
   },
   "file_extension": ".py",
   "mimetype": "text/x-python",
   "name": "python",
   "nbconvert_exporter": "python",
   "pygments_lexer": "ipython3",
   "version": "3.8.3"
  },
  "varInspector": {
   "cols": {
    "lenName": 16,
    "lenType": 16,
    "lenVar": 40
   },
   "kernels_config": {
    "python": {
     "delete_cmd_postfix": "",
     "delete_cmd_prefix": "del ",
     "library": "var_list.py",
     "varRefreshCmd": "print(var_dic_list())"
    },
    "r": {
     "delete_cmd_postfix": ") ",
     "delete_cmd_prefix": "rm(",
     "library": "var_list.r",
     "varRefreshCmd": "cat(var_dic_list()) "
    }
   },
   "types_to_exclude": [
    "module",
    "function",
    "builtin_function_or_method",
    "instance",
    "_Feature"
   ],
   "window_display": false
  },
  "interpreter": {
   "hash": "76d9afec17f4caf1537deb82d7ded46444858aa9fbc0e108ba0ca185db51c09c"
  }
 },
 "nbformat": 4,
 "nbformat_minor": 2
}