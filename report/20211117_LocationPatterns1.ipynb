{
 "cells": [
  {
   "cell_type": "markdown",
   "source": [
    "# Location patterns 1 - global chromosome characteristics\n",
    "\n",
    "This notebook explores the relationship between inversion coordinates and chromosome characteristics related to recombination rates. \n",
    "\n"
   ],
   "metadata": {}
  },
  {
   "cell_type": "code",
   "execution_count": 67,
   "source": [
    "# Initiate notebook with packages\n",
    "\n",
    "from pandas import Series, DataFrame\n",
    "import pandas as pd\n",
    "import numpy as np\n",
    "import scipy.stats\n",
    "import math\n",
    "from plotnine import ggplot, geom_histogram, aes, geom_bar, scale_x_discrete, theme, element_text, ggtitle, xlab, ylab, geom_point, stat_smooth, annotate\n"
   ],
   "outputs": [],
   "metadata": {}
  },
  {
   "cell_type": "markdown",
   "source": [
    "## Raw data upload"
   ],
   "metadata": {}
  },
  {
   "cell_type": "code",
   "execution_count": 16,
   "source": [
    "# Load chromosome data\n",
    "\n",
    "gap = pd.read_csv('../data/raw/gap.txt', sep = '\\t', header = None )\n",
    "gap.set_axis(['bin','chrom','chromStart','chromEnd','ix','n','size','type','bridge'], axis = 1, inplace = True)\n",
    "\n",
    "\n",
    "band = pd.read_csv('../data/raw/cytoBand.txt', sep = '\\t', header = None )\n",
    "band.set_axis(['chrom','chromStart','chromEnd','name','gieStain'], axis = 1, inplace = True)\n",
    "\n",
    "# Load and clean inversion data\n",
    "\n",
    "inv = pd.read_csv('../data/use/InversionsAnnotation_133Inv_20211117.csv', sep = '\\t', skiprows=1, skip_blank_lines=True)\n",
    "inv = inv.iloc[:,[0,1,2,11,12,13,14]]\n",
    "inv = inv.dropna()\n",
    "\n",
    "print(\"We will be analyzing \" + str(inv.shape[0]) + \" inversions\")\n"
   ],
   "outputs": [
    {
     "output_type": "stream",
     "name": "stdout",
     "text": [
      "We will be analyzing 135 inversions\n"
     ]
    }
   ],
   "metadata": {}
  },
  {
   "cell_type": "markdown",
   "source": [
    "## General distribution by chromosomes"
   ],
   "metadata": {}
  },
  {
   "cell_type": "code",
   "execution_count": 15,
   "source": [
    "# Make barplot values \n",
    "hist = DataFrame(inv.Chr.value_counts())\n",
    "\n",
    "# Set chromosome names list\n",
    "a = np.char.array(list(map(str,range(1,22)))+[\"X\", \"Y\"])\n",
    "b = np.char.array([\"chr\"] * 23)\n",
    "chrNames = b+a \n",
    "\n",
    "# Make plot \n",
    "(\n",
    "    ggplot(hist)+\n",
    "        geom_bar(aes(x = hist.index, y = \"Chr\"), stat=\"identity\")+\n",
    "        scale_x_discrete(limits = chrNames)+\n",
    "        theme( axis_text_x = element_text(angle = 45, vjust = 1, hjust=1))+\n",
    "        ylab(\"Inversion count\")+\n",
    "        ggtitle(\"Number of inversions on each chromosome\")\n",
    "\n",
    ")\n",
    "\n"
   ],
   "outputs": [
    {
     "output_type": "display_data",
     "data": {
      "image/png": "[encoded data removed]",
      "text/plain": [
       "<Figure size 640x480 with 1 Axes>"
      ]
     },
     "metadata": {}
    },
    {
     "output_type": "execute_result",
     "data": {
      "text/plain": [
       "<ggplot: (8747774513475)>"
      ]
     },
     "metadata": {},
     "execution_count": 15
    }
   ],
   "metadata": {}
  },
  {
   "cell_type": "markdown",
   "source": [
    "## Relationship with chromosome size"
   ],
   "metadata": {}
  },
  {
   "cell_type": "code",
   "execution_count": 70,
   "source": [
    "# Take chromosome sizes\n",
    "chromSize = gap[(gap.type == \"telomere\") & (gap.chromStart!=0)][[\"chrom\", \"chromEnd\"]]\n",
    "\n",
    "# Join with inversion count\n",
    "prop = pd.merge(chromSize, hist, left_on=\"chrom\", right_index=True)\n",
    "\n",
    "# Calculate correlation between chrom size and inversion count\n",
    "# np.corrcoef(prop[\"chromEnd\"],prop.Chr)\n",
    "# corr = scipy.stats.pearsonr(prop.chromEnd, prop.Chr)\n",
    "# corrMessage = \"Pearson's r = {:.3f}; p-value = {:.3f}\".format(corr[0], corr[1])\n",
    "\n",
    "# Plot correlation\n",
    "(\n",
    "    # ggplot(prop)+\n",
    "    ggplot(prop[~prop[\"chrom\"].isin([\"chrX\", \"chrY\"])])+\n",
    "    stat_smooth(aes(x = \"chromEnd\", y = \"Chr\"), method = \"lm\") +    \n",
    "    geom_point(aes(x = \"chromEnd\", y = \"Chr\")) +\n",
    "    annotate('text', x = math.inf, y = -math.inf, label = \"hello\", hjust = 0, vjust = 1)\n",
    "\n",
    ")"
   ],
   "outputs": [
    {
     "output_type": "error",
     "ename": "PlotnineError",
     "evalue": "\"Parameters {'hjust', 'vjust'}, are not understood by either the geom, stat or layer.\"",
     "traceback": [
      "\u001b[0;31m---------------------------------------------------------------------------\u001b[0m",
      "\u001b[0;31mPlotnineError\u001b[0m                             Traceback (most recent call last)",
      "\u001b[0;32m<ipython-input-70-614e42e6abf5>\u001b[0m in \u001b[0;36m<module>\u001b[0;34m\u001b[0m\n\u001b[1;32m     16\u001b[0m     \u001b[0mstat_smooth\u001b[0m\u001b[0;34m(\u001b[0m\u001b[0maes\u001b[0m\u001b[0;34m(\u001b[0m\u001b[0mx\u001b[0m \u001b[0;34m=\u001b[0m \u001b[0;34m\"chromEnd\"\u001b[0m\u001b[0;34m,\u001b[0m \u001b[0my\u001b[0m \u001b[0;34m=\u001b[0m \u001b[0;34m\"Chr\"\u001b[0m\u001b[0;34m)\u001b[0m\u001b[0;34m,\u001b[0m \u001b[0mmethod\u001b[0m \u001b[0;34m=\u001b[0m \u001b[0;34m\"lm\"\u001b[0m\u001b[0;34m)\u001b[0m \u001b[0;34m+\u001b[0m\u001b[0;34m\u001b[0m\u001b[0;34m\u001b[0m\u001b[0m\n\u001b[1;32m     17\u001b[0m     \u001b[0mgeom_point\u001b[0m\u001b[0;34m(\u001b[0m\u001b[0maes\u001b[0m\u001b[0;34m(\u001b[0m\u001b[0mx\u001b[0m \u001b[0;34m=\u001b[0m \u001b[0;34m\"chromEnd\"\u001b[0m\u001b[0;34m,\u001b[0m \u001b[0my\u001b[0m \u001b[0;34m=\u001b[0m \u001b[0;34m\"Chr\"\u001b[0m\u001b[0;34m)\u001b[0m\u001b[0;34m)\u001b[0m \u001b[0;34m+\u001b[0m\u001b[0;34m\u001b[0m\u001b[0;34m\u001b[0m\u001b[0m\n\u001b[0;32m---> 18\u001b[0;31m     \u001b[0mannotate\u001b[0m\u001b[0;34m(\u001b[0m\u001b[0;34m'text'\u001b[0m\u001b[0;34m,\u001b[0m \u001b[0mx\u001b[0m \u001b[0;34m=\u001b[0m \u001b[0mmath\u001b[0m\u001b[0;34m.\u001b[0m\u001b[0minf\u001b[0m\u001b[0;34m,\u001b[0m \u001b[0my\u001b[0m \u001b[0;34m=\u001b[0m \u001b[0;34m-\u001b[0m\u001b[0mmath\u001b[0m\u001b[0;34m.\u001b[0m\u001b[0minf\u001b[0m\u001b[0;34m,\u001b[0m \u001b[0mlabel\u001b[0m \u001b[0;34m=\u001b[0m \u001b[0;34m\"hello\"\u001b[0m\u001b[0;34m,\u001b[0m \u001b[0mhjust\u001b[0m \u001b[0;34m=\u001b[0m \u001b[0;36m0\u001b[0m\u001b[0;34m,\u001b[0m \u001b[0mvjust\u001b[0m \u001b[0;34m=\u001b[0m \u001b[0;36m1\u001b[0m\u001b[0;34m)\u001b[0m\u001b[0;34m\u001b[0m\u001b[0;34m\u001b[0m\u001b[0m\n\u001b[0m\u001b[1;32m     19\u001b[0m \u001b[0;34m\u001b[0m\u001b[0m\n\u001b[1;32m     20\u001b[0m )\n",
      "\u001b[0;32m~/anaconda3/lib/python3.8/site-packages/plotnine/geoms/annotate.py\u001b[0m in \u001b[0;36m__init__\u001b[0;34m(self, geom, x, y, xmin, xmax, xend, ymin, ymax, yend, **kwargs)\u001b[0m\n\u001b[1;32m     94\u001b[0m \u001b[0;34m\u001b[0m\u001b[0m\n\u001b[1;32m     95\u001b[0m         \u001b[0;31m# The positions are mapped, the rest are manual settings\u001b[0m\u001b[0;34m\u001b[0m\u001b[0;34m\u001b[0m\u001b[0;34m\u001b[0m\u001b[0m\n\u001b[0;32m---> 96\u001b[0;31m         self._annotation_geom = geom(mappings,\n\u001b[0m\u001b[1;32m     97\u001b[0m                                      \u001b[0mdata\u001b[0m\u001b[0;34m=\u001b[0m\u001b[0mdata\u001b[0m\u001b[0;34m,\u001b[0m\u001b[0;34m\u001b[0m\u001b[0;34m\u001b[0m\u001b[0m\n\u001b[1;32m     98\u001b[0m                                      \u001b[0mstat\u001b[0m\u001b[0;34m=\u001b[0m\u001b[0;34m'identity'\u001b[0m\u001b[0;34m,\u001b[0m\u001b[0;34m\u001b[0m\u001b[0;34m\u001b[0m\u001b[0m\n",
      "\u001b[0;32m~/anaconda3/lib/python3.8/site-packages/plotnine/geoms/geom_text.py\u001b[0m in \u001b[0;36m__init__\u001b[0;34m(self, mapping, data, **kwargs)\u001b[0m\n\u001b[1;32m    110\u001b[0m             \u001b[0mmapping\u001b[0m\u001b[0;34m[\u001b[0m\u001b[0;34m'va'\u001b[0m\u001b[0;34m]\u001b[0m \u001b[0;34m=\u001b[0m \u001b[0mmapping\u001b[0m\u001b[0;34m.\u001b[0m\u001b[0mpop\u001b[0m\u001b[0;34m(\u001b[0m\u001b[0;34m'vjust'\u001b[0m\u001b[0;34m)\u001b[0m\u001b[0;34m\u001b[0m\u001b[0;34m\u001b[0m\u001b[0m\n\u001b[1;32m    111\u001b[0m \u001b[0;34m\u001b[0m\u001b[0m\n\u001b[0;32m--> 112\u001b[0;31m         \u001b[0mgeom\u001b[0m\u001b[0;34m.\u001b[0m\u001b[0m__init__\u001b[0m\u001b[0;34m(\u001b[0m\u001b[0mself\u001b[0m\u001b[0;34m,\u001b[0m \u001b[0mmapping\u001b[0m\u001b[0;34m,\u001b[0m \u001b[0mdata\u001b[0m\u001b[0;34m,\u001b[0m \u001b[0;34m**\u001b[0m\u001b[0mkwargs\u001b[0m\u001b[0;34m)\u001b[0m\u001b[0;34m\u001b[0m\u001b[0;34m\u001b[0m\u001b[0m\n\u001b[0m\u001b[1;32m    113\u001b[0m \u001b[0;34m\u001b[0m\u001b[0m\n\u001b[1;32m    114\u001b[0m     \u001b[0;32mdef\u001b[0m \u001b[0msetup_data\u001b[0m\u001b[0;34m(\u001b[0m\u001b[0mself\u001b[0m\u001b[0;34m,\u001b[0m \u001b[0mdata\u001b[0m\u001b[0;34m)\u001b[0m\u001b[0;34m:\u001b[0m\u001b[0;34m\u001b[0m\u001b[0;34m\u001b[0m\u001b[0m\n",
      "\u001b[0;32m~/anaconda3/lib/python3.8/site-packages/plotnine/geoms/geom.py\u001b[0m in \u001b[0;36m__init__\u001b[0;34m(self, mapping, data, **kwargs)\u001b[0m\n\u001b[1;32m     45\u001b[0m         \u001b[0mself\u001b[0m\u001b[0;34m.\u001b[0m\u001b[0m_stat\u001b[0m \u001b[0;34m=\u001b[0m \u001b[0mstat\u001b[0m\u001b[0;34m.\u001b[0m\u001b[0mfrom_geom\u001b[0m\u001b[0;34m(\u001b[0m\u001b[0mself\u001b[0m\u001b[0;34m)\u001b[0m\u001b[0;34m\u001b[0m\u001b[0;34m\u001b[0m\u001b[0m\n\u001b[1;32m     46\u001b[0m         \u001b[0mself\u001b[0m\u001b[0;34m.\u001b[0m\u001b[0m_position\u001b[0m \u001b[0;34m=\u001b[0m \u001b[0mposition\u001b[0m\u001b[0;34m.\u001b[0m\u001b[0mfrom_geom\u001b[0m\u001b[0;34m(\u001b[0m\u001b[0mself\u001b[0m\u001b[0;34m)\u001b[0m\u001b[0;34m\u001b[0m\u001b[0;34m\u001b[0m\u001b[0m\n\u001b[0;32m---> 47\u001b[0;31m         \u001b[0mself\u001b[0m\u001b[0;34m.\u001b[0m\u001b[0m_verify_arguments\u001b[0m\u001b[0;34m(\u001b[0m\u001b[0mkwargs\u001b[0m\u001b[0;34m)\u001b[0m     \u001b[0;31m# geom, stat, layer\u001b[0m\u001b[0;34m\u001b[0m\u001b[0;34m\u001b[0m\u001b[0m\n\u001b[0m\u001b[1;32m     48\u001b[0m \u001b[0;34m\u001b[0m\u001b[0m\n\u001b[1;32m     49\u001b[0m     \u001b[0;34m@\u001b[0m\u001b[0mstaticmethod\u001b[0m\u001b[0;34m\u001b[0m\u001b[0;34m\u001b[0m\u001b[0m\n",
      "\u001b[0;32m~/anaconda3/lib/python3.8/site-packages/plotnine/geoms/geom.py\u001b[0m in \u001b[0;36m_verify_arguments\u001b[0;34m(self, kwargs)\u001b[0m\n\u001b[1;32m    381\u001b[0m             msg = (\"Parameters {}, are not understood by \"\n\u001b[1;32m    382\u001b[0m                    \"either the geom, stat or layer.\")\n\u001b[0;32m--> 383\u001b[0;31m             \u001b[0;32mraise\u001b[0m \u001b[0mPlotnineError\u001b[0m\u001b[0;34m(\u001b[0m\u001b[0mmsg\u001b[0m\u001b[0;34m.\u001b[0m\u001b[0mformat\u001b[0m\u001b[0;34m(\u001b[0m\u001b[0munknown\u001b[0m\u001b[0;34m)\u001b[0m\u001b[0;34m)\u001b[0m\u001b[0;34m\u001b[0m\u001b[0;34m\u001b[0m\u001b[0m\n\u001b[0m\u001b[1;32m    384\u001b[0m \u001b[0;34m\u001b[0m\u001b[0m\n\u001b[1;32m    385\u001b[0m     \u001b[0;32mdef\u001b[0m \u001b[0mhandle_na\u001b[0m\u001b[0;34m(\u001b[0m\u001b[0mself\u001b[0m\u001b[0;34m,\u001b[0m \u001b[0mdata\u001b[0m\u001b[0;34m)\u001b[0m\u001b[0;34m:\u001b[0m\u001b[0;34m\u001b[0m\u001b[0;34m\u001b[0m\u001b[0m\n",
      "\u001b[0;31mPlotnineError\u001b[0m: \"Parameters {'hjust', 'vjust'}, are not understood by either the geom, stat or layer.\""
     ]
    }
   ],
   "metadata": {}
  },
  {
   "cell_type": "code",
   "execution_count": 45,
   "source": [],
   "outputs": [
    {
     "output_type": "execute_result",
     "data": {
      "text/plain": [
       "pandas.core.series.Series"
      ]
     },
     "metadata": {},
     "execution_count": 45
    }
   ],
   "metadata": {}
  },
  {
   "cell_type": "markdown",
   "source": [
    "## Relative position within chromosome"
   ],
   "metadata": {}
  },
  {
   "cell_type": "code",
   "execution_count": null,
   "source": [
    "# Select centromeres as p arm End\n",
    "center = band[(band['gieStain'] == 'acen') & (band['name'].str.startswith('p') )]\n",
    "center = center[['chrom', 'chromEnd']]\n",
    "\n",
    "# Select chromosome end as q arm End\n",
    "groupedBand = band['chromEnd'].groupby(band['chrom'])\n",
    "end = DataFrame(groupedBand.max() )\n",
    "end.reset_index(level=['chrom'], inplace = True)\n",
    "\n",
    "# Set q arm Start\n",
    "end = pd.merge(end, center, on = 'chrom')\n",
    "end.set_axis(['chrom','chromEnd','chromStart'], axis = 1, inplace = True)\n",
    "\n",
    "# Set p arm Start\n",
    "center['chromStart'] = 0\n",
    "\n",
    "# Set p and q flags\n",
    "center['chromArm']='p'\n",
    "end['chromArm']='q'\n",
    "\n",
    "# Join data\n",
    "chromArms = pd.concat([center, end])\n"
   ],
   "outputs": [],
   "metadata": {}
  },
  {
   "cell_type": "markdown",
   "source": [
    "## Distribution within chromosome and inversion groups"
   ],
   "metadata": {}
  },
  {
   "cell_type": "markdown",
   "source": [
    "## Relationship with chromosome mean recombination rate\n"
   ],
   "metadata": {}
  }
 ],
 "metadata": {
  "kernelspec": {
   "name": "python3",
   "display_name": "Python 3.8.3 64-bit ('base': conda)"
  },
  "language_info": {
   "codemirror_mode": {
    "name": "ipython",
    "version": 3
   },
   "file_extension": ".py",
   "mimetype": "text/x-python",
   "name": "python",
   "nbconvert_exporter": "python",
   "pygments_lexer": "ipython3",
   "version": "3.8.3"
  },
  "varInspector": {
   "cols": {
    "lenName": 16,
    "lenType": 16,
    "lenVar": 40
   },
   "kernels_config": {
    "python": {
     "delete_cmd_postfix": "",
     "delete_cmd_prefix": "del ",
     "library": "var_list.py",
     "varRefreshCmd": "print(var_dic_list())"
    },
    "r": {
     "delete_cmd_postfix": ") ",
     "delete_cmd_prefix": "rm(",
     "library": "var_list.r",
     "varRefreshCmd": "cat(var_dic_list()) "
    }
   },
   "types_to_exclude": [
    "module",
    "function",
    "builtin_function_or_method",
    "instance",
    "_Feature"
   ],
   "window_display": false
  },
  "interpreter": {
   "hash": "76d9afec17f4caf1537deb82d7ded46444858aa9fbc0e108ba0ca185db51c09c"
  }
 },
 "nbformat": 4,
 "nbformat_minor": 2
}