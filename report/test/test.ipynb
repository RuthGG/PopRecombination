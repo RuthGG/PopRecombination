{
 "cells": [
  {
   "cell_type": "markdown",
   "source": [
    "<cite data-cite=\"Bherer2017\"></cite>"
   ],
   "metadata": {}
  }
 ],
 "metadata": {
  "orig_nbformat": 4,
  "language_info": {
   "name": "python",
   "version": "3.7.7"
  },
  "kernelspec": {
   "name": "python3",
   "display_name": "Python 3.7.7 64-bit ('PopRecombination': conda)"
  },
  "interpreter": {
   "hash": "0479b678e8c5f48281b36309a55df3096ee4668114a7b9174934e383ba706123"
  }
 },
 "nbformat": 4,
 "nbformat_minor": 2
}