{
 "cells": [
  {
   "cell_type": "code",
   "execution_count": null,
   "metadata": {},
   "outputs": [],
   "source": [
    "# Citations\n",
    "# <cite data-cite=\"datarray_meeting\">(Granger, 2013)</cite>\n",
    "# <strong data-cite=\"datarray_meeting\">(Granger, 2013)</strong>\n",
    "\n",
    "#  Convert to pdf: \n",
    "# jupyter nbconvert --to pdf --template template.tplx --no-input 20211117_LocationPatterns1.ipynb  "
   ]
  },
  {
   "cell_type": "code",
   "execution_count": null,
   "metadata": {},
   "outputs": [],
   "source": [
    "# Initiate notebook with packages\n",
    "# -------------------------------\n",
    "\n",
    "from pandas import Series, DataFrame\n",
    "import pandas as pd\n",
    "import numpy as np\n",
    "import rpy2.rinterface\n",
    "%load_ext rpy2.ipython\n",
    "import random \n",
    "import scipy.stats\n",
    "# import math\n",
    "from plotnine import ggplot, geom_histogram, aes, geom_bar, geom_rect, scale_x_discrete, theme, element_text, ggtitle, xlab, ylab, facet_wrap, geom_point, stat_smooth, annotate, geom_text, geom_boxplot, geom_col, facet_grid\n",
    "import warnings\n",
    "warnings.filterwarnings('ignore')\n"
   ]
  },
  {
   "cell_type": "code",
   "execution_count": null,
   "metadata": {},
   "outputs": [],
   "source": [
    "\n",
    "# Set working directory\n",
    "# ------------------------------\n",
    "os.chdir(\"../../\")\n"
   ]
  },
  {
   "cell_type": "code",
   "execution_count": null,
   "metadata": {},
   "outputs": [],
   "source": [
    "# Set figure counter for text\n",
    "# ------------------------------\n",
    "figcounter = 0\n"
   ]
  },
  {
   "cell_type": "markdown",
   "metadata": {},
   "source": [
    "# Data"
   ]
  },
  {
   "cell_type": "code",
   "execution_count": null,
   "metadata": {},
   "outputs": [],
   "source": [
    "\n",
    "# Load chromosome data\n",
    "# -------------------------------\n",
    "\n",
    "gap = pd.read_csv('data/raw/gap.txt', sep = '\\t', header = None )\n",
    "gap.set_axis(['bin','chrom','chromStart','chromEnd','ix','n','size','type','bridge'], axis = 1, inplace = True)\n",
    "\n",
    "band = pd.read_csv('data/raw/cytoBand.txt', sep = '\\t', header = None )\n",
    "band.set_axis(['chrom','chromStart','chromEnd','name','gieStain'], axis = 1, inplace = True)\n",
    "\n",
    "sizes = pd.read_csv('data/raw/chrSizes.txt', sep = '\\t')\n",
    "\n",
    "genSize = pd.read_csv(\"data/use/BhererGeneticDistance.txt\", sep = \"\\t\", header = None)\n",
    "genSize.set_axis([\"Chromosome\", \"Position\", \"Rate\", \"cM\"] ,axis = 1, inplace = True)\n",
    "\n",
    "recRate = pd.read_csv(\"data/use/BhererAllChroms.txt\", sep = \"\\t\", header = None)\n",
    "recRate.set_axis([\"Chromosome\", \"Position\", \"Rate\", \"cM\"] ,axis = 1, inplace = True)\n",
    "\n",
    "# Load repeat data\n",
    "# -------------------------------\n",
    "\n",
    "segDups = pd.read_csv('data/raw/genomicSuperDups.txt', sep = '\\t'  )\n",
    "\n",
    "# Load and clean inversion data\n",
    "# -------------------------------\n",
    "\n",
    "inv = pd.read_csv('data/use/InversionsAnnotation_133Inv_20211117.csv', sep = '\\t', skiprows=1, skip_blank_lines=True)\n",
    "inv = inv.iloc[:,[0,1,2,11,12,13,14]]\n",
    "inv = inv.dropna()\n",
    "\n",
    "Ori_fixed =  inv[\"Origin\"].replace(regex = [\"NAHR.*\"], value = \"NAHR\" )\n",
    "Ori_fixed = Ori_fixed.replace(regex = [\"NH.*\"], value = \"NH\" )\n",
    "inv[\"OriginFixed\"] = Ori_fixed\n",
    "\n"
   ]
  },
  {
   "cell_type": "markdown",
   "metadata": {},
   "source": [
    "## Inversions\n",
    "\n",
    "We are using a curated dataset of inversions identified and validated with different methodologies. They are classified according to their generation mechanism, which can be either a Non-Homologous mechanism (NH) or Non Allelic Homologous Recombination (NAHR). \n",
    "\n",
    "## Repeats\n",
    " \t\n",
    "From UCSC track \"GenomicSuperDups\". These are segmental duplications (SDs) with size >= 1kb and >= 90% identity. The table contains the positions of both copies and information about the identity between them. For some analyses in this report, those SDs occuring within the same chromosome (intrachromosomal) were identified. \n",
    "\n",
    "## Chromosome length\n",
    "\n",
    "Total lengths as specified in https://www.ncbi.nlm.nih.gov/grc/human/data?asm=GRCh37 \n",
    "\n",
    "## centiMorgans\n",
    "\n",
    "Chromosome lengths in centiMorgans were obtained from sex-averaged pedigree-based recombination maps <cite data-cite=\"Bherer2017\"></cite> because they are easy to download and use, and have enough resolution for these analyses. \n"
   ]
  },
  {
   "cell_type": "code",
   "execution_count": null,
   "metadata": {},
   "outputs": [],
   "source": [
    "print(f\"\"\"We will be analyzing {inv.shape[0]} inversions, {Ori_fixed[Ori_fixed == \"NAHR\"].count()} NAHR and {Ori_fixed[Ori_fixed == \"NH\"].count()} NH.\"\"\")"
   ]
  },
  {
   "cell_type": "markdown",
   "metadata": {},
   "source": [
    "## Differences in distribution between chromosomes\n",
    "\n",
    "Smaller chromosomes have higher recombination rates than big ones to make sure that there are enough chiasmata to correctly seggregate. Probably because of this difference, small autosomes have more NAHR inversions per Mb than big autosomes, while NH inversions are randomly distributed (Figures 3 & 4). As it is already known, the excess of repeats in chromosome X causes a significant enrichment of NAHR inversions. There are no differences in inversion sizes between chromosome types (Figure 5).  "
   ]
  },
  {
   "cell_type": "code",
   "execution_count": null,
   "metadata": {},
   "outputs": [],
   "source": [
    "# Make table for per-chromosome analyses\n",
    "#----------------------------------------\n",
    "\n",
    "# Set chromosome names list\n",
    "a = np.char.array(list(map(str,range(1,23)))+[\"X\", \"Y\"])\n",
    "b = np.char.array([\"chr\"] * 24)\n",
    "chrNames = b+a \n",
    "chrTypes = ( [\"BigAutosome\"] * 12 + [\"SmallAutosome\"] * 10 + [\"SexChr\"] * 2)\n",
    "\n",
    "byChrInfo = DataFrame({\"Chromosome\" : chrNames, \"chromType\" : chrTypes})\n",
    "\n",
    "# Count inversions and inversion types\n",
    "## InvCounts\n",
    "byChrInfo = byChrInfo.merge(Series(inv.Chr.value_counts(), name = \"invCounts\"), how = \"left\", left_on= \"Chromosome\", right_index=True )\n",
    "## NAHRCounts\n",
    "byChrInfo = byChrInfo.merge( Series(inv[inv.OriginFixed == \"NAHR\"].Chr.value_counts(), name = \"NAHRCounts\"),  how = \"left\", left_on= \"Chromosome\", right_index=True )\n",
    "## NHCounts\n",
    "byChrInfo = byChrInfo.merge( Series(inv[inv.OriginFixed == \"NH\"].Chr.value_counts(), name = \"NHCounts\"), how = \"left\", left_on= \"Chromosome\", right_index=True )\n",
    "\n",
    "# Count repeats and intrachromosomal repeats\n",
    "## All repeats\n",
    "byChrInfo = byChrInfo.merge( Series(segDups.chrom.value_counts() + segDups.otherChrom.value_counts(), name = \"allRepCounts\"), how = \"left\", left_on= \"Chromosome\", right_index=True )\n",
    "## Intrachromosomal repeats, Multiplied because each row represents 2 incidences\n",
    "byChrInfo = byChrInfo.merge( Series(segDups[segDups.chrom == segDups.otherChrom].chrom.value_counts() * 2 , name = \"intraRepCounts\"), how = \"left\", left_on= \"Chromosome\", right_index=True )\n",
    "\n",
    "# Add chromosome size\n",
    "byChrInfo = byChrInfo.merge(sizes[[\"Chromosome\", \"Totallength(bp)\"]], how = \"left\" )\n",
    "byChrInfo = byChrInfo.merge(genSize[[\"Chromosome\", \"cM\"]], how = \"left\" )\n",
    "# Clean empty falues\n",
    "byChrInfo.fillna(0, inplace = True)\n",
    "\n",
    "# Calculate densities\n",
    "byChrInfo[\"invDensity\"] = byChrInfo.invCounts / byChrInfo[\"Totallength(bp)\"]\n",
    "byChrInfo[\"NAHRDensity\"] = byChrInfo.NAHRCounts / byChrInfo[\"Totallength(bp)\"]\n",
    "byChrInfo[\"NHDensity\"] = byChrInfo.NHCounts / byChrInfo[\"Totallength(bp)\"]\n",
    "byChrInfo[\"allRepDensity\"] = byChrInfo.allRepCounts / byChrInfo[\"Totallength(bp)\"]\n",
    "byChrInfo[\"intraRepDensity\"] = byChrInfo.intraRepCounts / byChrInfo[\"Totallength(bp)\"]\n",
    "byChrInfo[\"Rate(cM/Mb)\"] = byChrInfo.cM / (byChrInfo[\"Totallength(bp)\"]/1000000)"
   ]
  },
  {
   "cell_type": "markdown",
   "metadata": {},
   "source": [
    "### Autosomes - variable exploration "
   ]
  },
  {
   "cell_type": "code",
   "execution_count": null,
   "metadata": {},
   "outputs": [],
   "source": [
    "# Filter table to have autosomes only\n",
    "#--------------------------------------\n",
    "\n",
    "sexChromosomes = byChrInfo[byChrInfo.Chromosome.isin([\"chrX\", \"chrY\"])]\n",
    "\n",
    "Autosomes = byChrInfo[~ byChrInfo.Chromosome.isin([\"chrX\", \"chrY\"])]\n"
   ]
  },
  {
   "cell_type": "code",
   "execution_count": null,
   "metadata": {},
   "outputs": [],
   "source": [
    "%%R -i Autosomes -h 3508 -w 2480 -r 300\n",
    "\n",
    "library(\"corrplot\")\n",
    "\n",
    "rownames(Autosomes) <- Autosomes$Chromosome\n",
    "\n",
    "toPlot <- Autosomes[,c(3:ncol(Autosomes))]\n",
    "\n",
    "toPlotCor = cor(as.matrix(toPlot))\n",
    "testRes = cor.mtest(toPlot, conf.level = 0.95)\n",
    "\n",
    "corrplot(toPlotCor, p.mat = testRes$p, sig.level = c(0.001, 0.01, 0.05), pch.cex = 0.9, insig = 'label_sig', type = \"lower\", method = \"square\", col = COL2('PRGn'), diag = FALSE)"
   ]
  },
  {
   "cell_type": "code",
   "execution_count": null,
   "metadata": {},
   "outputs": [],
   "source": [
    "%%R -i Autosomes -h 3508 -w 2480 -r 300\n",
    "\n",
    "library(\"corrplot\")\n",
    "\n",
    "rownames(Autosomes) <- Autosomes$Chromosome\n",
    "\n",
    "toPlot <- Autosomes[which(Autosomes$chromType == \"BigAutosome\" ),c(3:ncol(Autosomes))]\n",
    "\n",
    "toPlotCor = cor(as.matrix(toPlot))\n",
    "testRes = cor.mtest(toPlot, conf.level = 0.95)\n",
    "\n",
    "corrplot(toPlotCor, p.mat = testRes$p, sig.level = c(0.001, 0.01, 0.05), pch.cex = 0.9, insig = 'label_sig', type = \"lower\", method = \"square\",col = COL2('PRGn'), diag = FALSE)"
   ]
  },
  {
   "cell_type": "code",
   "execution_count": null,
   "metadata": {},
   "outputs": [],
   "source": [
    "%%R -i Autosomes -h 3508 -w 2480 -r 300\n",
    "\n",
    "library(\"corrplot\")\n",
    "\n",
    "rownames(Autosomes) <- Autosomes$Chromosome\n",
    "\n",
    "toPlot <- Autosomes[which(Autosomes$chromType == \"SmallAutosome\" ),c(3:ncol(Autosomes))]\n",
    "\n",
    "toPlotCor = cor(as.matrix(toPlot))\n",
    "testRes = cor.mtest(toPlot, conf.level = 0.95)\n",
    "\n",
    "corrplot(toPlotCor, p.mat = testRes$p, sig.level = c(0.001, 0.01, 0.05), pch.cex = 0.9, insig = 'label_sig', type = \"lower\", method = \"square\",col = COL2('PRGn'), diag = FALSE)"
   ]
  },
  {
   "cell_type": "code",
   "execution_count": null,
   "metadata": {},
   "outputs": [],
   "source": [
    "%%R -i Autosomes -h 3508 -w 2480 -r 300\n",
    "# 3508 x 2480 r 300\n",
    "library(\"PerformanceAnalytics\")\n",
    "\n",
    "rownames(Autosomes) <- Autosomes$Chromosome\n",
    "\n",
    "toPlot <- Autosomes[,c(3:ncol(Autosomes))]\n",
    "\n",
    "chart.Correlation(toPlot, histogram=TRUE, pch = \"+\")\n"
   ]
  },
  {
   "cell_type": "code",
   "execution_count": null,
   "metadata": {},
   "outputs": [],
   "source": [
    "%%R -i Autosomes -h 3508 -w 2480 -r 300\n",
    "# 3508 x 2480 r 300\n",
    "library(\"PerformanceAnalytics\")\n",
    "rownames(Autosomes) <- Autosomes$Chromosome\n",
    "\n",
    "toPlot <- Autosomes[which(Autosomes$chromType == \"BigAutosome\" ),c(3:ncol(Autosomes))]\n",
    "\n",
    "chart.Correlation(toPlot, histogram=TRUE)"
   ]
  },
  {
   "cell_type": "code",
   "execution_count": null,
   "metadata": {},
   "outputs": [],
   "source": [
    "%%R -i Autosomes -h 3508 -w 2480 -r 300\n",
    "# 3508 x 2480 r 300\n",
    "library(\"PerformanceAnalytics\")\n",
    "rownames(Autosomes) <- Autosomes$Chromosome\n",
    "\n",
    "toPlot <- Autosomes[which(Autosomes$chromType == \"SmallAutosome\" ),c(3:ncol(Autosomes))]\n",
    "\n",
    "chart.Correlation(toPlot, histogram=TRUE)"
   ]
  },
  {
   "cell_type": "code",
   "execution_count": null,
   "metadata": {},
   "outputs": [],
   "source": [
    "# Distribution of inversions by chromosome overview - a plot\n",
    "# -------------------------------\n",
    "\n",
    "# Make barplot values \n",
    "hist = DataFrame(inv.Chr.value_counts())\n",
    "\n",
    "# Set chromosome names list\n",
    "a = np.char.array(list(map(str,range(1,23)))+[\"X\", \"Y\"])\n",
    "b = np.char.array([\"chr\"] * 24)\n",
    "chrNames = b+a \n",
    "\n",
    "# Make plot \n",
    "(\n",
    "    ggplot(hist)+\n",
    "        geom_bar(aes(x = hist.index, y = \"Chr\"), stat=\"identity\")+\n",
    "        scale_x_discrete(limits = chrNames)+\n",
    "        theme( axis_text_x = element_text(angle = 45, vjust = 1, hjust=1))+\n",
    "        ylab(\"Inversion count\")+\n",
    "        ggtitle(\"Number of inversions on each chromosome\")\n",
    "\n",
    ")\n",
    "\n"
   ]
  },
  {
   "cell_type": "code",
   "execution_count": null,
   "metadata": {},
   "outputs": [],
   "source": [
    "figcounter+=1\n",
    "print(f\"Figure {figcounter}: Number of inversions for each chromosome in the dataset\")\n"
   ]
  },
  {
   "cell_type": "code",
   "execution_count": null,
   "metadata": {},
   "outputs": [],
   "source": [
    "# Distribution of inversions by chromosome size\n",
    "# -------------------------------\n",
    "\n",
    "# Take chromosome sizes\n",
    "chromSize = gap[(gap.type == \"telomere\") & (gap.chromStart!=0)][[\"chrom\", \"chromEnd\"]]\n",
    "\n",
    "# Join with inversion count\n",
    "prop = pd.merge(chromSize, hist, left_on=\"chrom\", right_index=True)\n",
    "\n",
    "# Plot correlation\n",
    "plotSubset = prop[~prop[\"chrom\"].isin([\"chrX\", \"chrY\"])]\n"
   ]
  },
  {
   "cell_type": "code",
   "execution_count": null,
   "metadata": {},
   "outputs": [],
   "source": [
    "%%R -i plotSubset -r 100\n",
    "\n",
    "library(ggpubr)\n",
    "\n",
    "ggscatter(plotSubset, x = \"chromEnd\", y = \"Chr\",\n",
    "          add = \"reg.line\",                                 \n",
    "          conf.int = TRUE,                                  \n",
    "          add.params = list(color = \"black\",\n",
    "                            fill = \"gray60\"),\n",
    "          ggtheme = theme_gray() \n",
    "        )+\n",
    "  stat_cor(method = \"pearson\")+\n",
    "  ggtitle(\"Correlation between size and inversions \")+\n",
    "  ylab(\"Inversion count\")+xlab(\"Autosome size\")  \n"
   ]
  },
  {
   "cell_type": "code",
   "execution_count": null,
   "metadata": {},
   "outputs": [],
   "source": [
    "figcounter+=1\n",
    "print(f\"Figure {figcounter}: There is a moderate, significant positive correlation between autosome size and inversion count when all inversions and autosomes are considered.\")\n"
   ]
  },
  {
   "cell_type": "code",
   "execution_count": null,
   "metadata": {},
   "outputs": [],
   "source": [
    "# Distribution of inversions by chromosome size, grouped - BOXPLOT\n",
    "# -------------------------------\n",
    "\n",
    "# Set chromosome types list\n",
    "chrTypes = ( [\"BigAutosome\"] * 12 + [\"SmallAutosome\"] * 10 + [\"SexChr\"] * 2)\n",
    "\n",
    "# Join chromosome types with chromosome names\n",
    "chrClassified = DataFrame({\"chrNames\":chrNames, \"chrTypes\": chrTypes})\n",
    "\n",
    "# Join chromosome types to inversion info\n",
    "inv = pd.merge(inv, chrClassified,  left_on = \"Chr\", right_on = \"chrNames\" )\n",
    "\n",
    "# Make per-chromosome inversion counts\n",
    "inv_grouped = inv.groupby([\"OriginFixed\",\"Chr\" ])\n",
    "IDs_grouped = inv_grouped[\"INV\"]\n",
    "\n",
    "IDs_counted = IDs_grouped.size().unstack().melt( ignore_index= False )\n",
    "IDs_counted[\"OriginFixed\"] = IDs_counted.index\n",
    "\n",
    "# Add chromosome size\n",
    "proportions = pd.merge(IDs_counted, chromSize, left_on = \"Chr\", right_on=\"chrom\")\n",
    "proportions[\"value\"] = proportions[\"value\"].replace(np.NaN, 0)\n",
    "proportions[\"InvsPerMb\"] = proportions[\"value\"] / (proportions[\"chromEnd\"]/1000000)\n",
    "\n",
    "\n",
    "# Join inversion counts with chrTypes\n",
    "ICounts_CTypes = pd.merge(proportions, chrClassified, left_on = \"Chr\", right_on = \"chrNames\" )\n",
    "\n",
    "# Make boxplot\n",
    "(\n",
    "    ggplot(ICounts_CTypes)+\n",
    "    geom_boxplot(aes(x = \"chrTypes\", fill = \"OriginFixed\", y = \"InvsPerMb\"))+\n",
    "    ggtitle(\"Inversions/Mb in different chromosome types\")+\n",
    "    ylab(\"Inversion/Mb\")+xlab(\"Chromosome type\") \n",
    "\n",
    ")\n",
    "\n",
    "\n",
    "\n",
    "# Join inversion counts with chrTypes\n",
    "ICounts_CTypes = pd.merge(proportions, chrClassified, left_on = \"Chr\", right_on = \"chrNames\" )\n",
    "\n",
    "# Make boxplot\n",
    "(\n",
    "    ggplot(ICounts_CTypes)+\n",
    "    geom_boxplot(aes(x = \"chrTypes\", fill = \"OriginFixed\", y = \"InvsPerMb\"))+\n",
    "    ggtitle(\"Inversions/Mb in different chromosome types\")+\n",
    "    ylab(\"Inversion/Mb\")+xlab(\"Chromosome type\") \n",
    "\n",
    ")\n",
    "\n"
   ]
  },
  {
   "cell_type": "code",
   "execution_count": null,
   "metadata": {},
   "outputs": [],
   "source": [
    "NAHR_invcount = ICounts_CTypes[ICounts_CTypes.OriginFixed == \"NAHR\"][\"value\"].sum()\n",
    "NH_invcount = ICounts_CTypes[ICounts_CTypes.OriginFixed == \"NH\"][\"value\"].sum()\n",
    "proportion = NH_invcount / NAHR_invcount\n",
    "\n",
    "\n",
    "compcounts = ICounts_CTypes[ICounts_CTypes.OriginFixed == \"NH\"][[\"value\", \"chrom\", \"chrTypes\"]].merge(ICounts_CTypes[ICounts_CTypes.OriginFixed == \"NAHR\"][[\"value\", \"chrom\"]], on = \"chrom\", suffixes = (\"_NH\", \"_NAHR\"))\n",
    "compcounts[\"proportion\"] = compcounts.value_NH / compcounts.value_NAHR\n",
    "\n",
    "compcounts = compcounts.replace([np.inf, -np.inf], np.nan)\n",
    "smallRatio = round(compcounts[(compcounts.chrTypes == \"SmallAutosome\")][\"proportion\"].mean(),(3) )\n",
    "bigRatio = round(compcounts[(compcounts.chrTypes == \"BigAutosome\")][\"proportion\"].mean(), (3))\n",
    "sexRatio = round(compcounts[(compcounts.chrTypes == \"SexChr\")][\"proportion\"].mean(), 3)\n",
    "\n",
    "figcounter+=1\n",
    "print(f\"\"\"Figure {figcounter}: Different chromosome types have different distribution of inversion origins. Big Autosomes are chromosomes 1-12, Small Autosomes are chromosomes 13-22, inversion counts are corrected by chromosome size. The general NAHR:NH ratio is 1:{proportion.round(2)}, while in chromosome X is 1:{sexRatio * 2}, in Big chromosomes the mean ratio is 1:{bigRatio} and in Small chromosomes the mean ratio is 1:{smallRatio}.\"\"\") \n"
   ]
  },
  {
   "cell_type": "code",
   "execution_count": null,
   "metadata": {},
   "outputs": [],
   "source": [
    "# Distribution of inversions by chromosome size, grouped - CORRELATION\n",
    "# -------------------------------\n",
    "\n",
    "IC_CT_auto = ICounts_CTypes[ ~ ICounts_CTypes[\"chrNames\"].isin([\"chrX\", \"chY\"])]\n",
    "\n"
   ]
  },
  {
   "cell_type": "code",
   "execution_count": null,
   "metadata": {},
   "outputs": [],
   "source": [
    "%%R -i IC_CT_auto -r 100\n",
    "\n",
    "library(ggpubr)\n",
    "\n",
    "ggscatter(IC_CT_auto, x = \"chromEnd\", y = \"value\",\n",
    "          add = \"reg.line\",                                 \n",
    "          conf.int = TRUE,                                  \n",
    "          add.params = list(color = \"black\",\n",
    "                            fill = \"gray60\"),\n",
    "          ggtheme = theme_gray() \n",
    "        )+\n",
    "  stat_cor(method = \"pearson\")+\n",
    "  facet_grid(OriginFixed ~ .)+ \n",
    "  ggtitle(\"Correlation between size and inversions\")+\n",
    "  ylab(\"Inversion count\")+xlab(\"Autosome size\")\n"
   ]
  },
  {
   "cell_type": "code",
   "execution_count": null,
   "metadata": {},
   "outputs": [],
   "source": [
    "figcounter+=1\n",
    "print(f\"Figure {figcounter}: The correlation between Autosome size and inversion count is affected by the differential distributions observed in Figure {figcounter-1}. NH inversion counts show a strong, significant positive correlation with chromosome size, while no such correlation is observed for NAHR inversions because of their excess in Small chromosomes and depleat Big chromosomes.\" )"
   ]
  },
  {
   "cell_type": "code",
   "execution_count": null,
   "metadata": {},
   "outputs": [],
   "source": [
    "# SEGMENTAL DUPLICATIONS\n",
    "# -----------------------------\n",
    "\n",
    "# Make per-chromosome repeat counts\n",
    "# Filter intrachromosomal segDups\n",
    "sD_intra = segDups[segDups.chrom == segDups.otherChrom]\n",
    "sD_grouped = sD_intra.groupby([\"chrom\" ])\n",
    "# Count\n",
    "sD_groupedIDs = sD_grouped[\"name\"]\n",
    "sD_counted = DataFrame(sD_groupedIDs.size())\n",
    "\n",
    "# Add chromosome size\n",
    "sD_prop = pd.merge(sD_counted, chromSize, left_on = \"chrom\", right_on=\"chrom\")\n",
    "sD_prop[\"RepsPerMb\"] = sD_prop[\"name\"] / (sD_prop[\"chromEnd\"]/1000000)\n",
    "\n",
    "# Merge with inversion counts\n",
    "repInvs =pd.merge(ICounts_CTypes, sD_prop, left_on = \"Chr\", right_on=\"chrom\", how = \"left\")\n",
    "\n",
    "# DELETE THIS TO INCLUDE SEXUAL CHROMOSOMES\n",
    "repInvs = repInvs[  ~ repInvs.Chr.isin([\"chrX\", \"chrY\"]) ]\n",
    "\n"
   ]
  },
  {
   "cell_type": "code",
   "execution_count": null,
   "metadata": {},
   "outputs": [],
   "source": [
    "%%R -i repInvs -r 100\n",
    "\n",
    "library(ggpubr)\n",
    "\n",
    "ggscatter(repInvs, x = \"name\", y = \"value\",\n",
    "          add = \"reg.line\",                                 \n",
    "          conf.int = TRUE,                                  \n",
    "          add.params = list(color = \"black\",\n",
    "                            fill = \"gray60\"),\n",
    "          ggtheme = theme_gray() \n",
    "        )+\n",
    "  stat_cor(method = \"pearson\")+\n",
    "  facet_grid(OriginFixed ~ .)+ \n",
    "  ggtitle(\"Correlation between segdups and inversion count \\n(autosomes)\")+\n",
    "  ylab(\"Inversion count\")+xlab(\"Intrachromosomal Segmental Duplications count\") \n"
   ]
  },
  {
   "cell_type": "markdown",
   "metadata": {},
   "source": []
  },
  {
   "cell_type": "code",
   "execution_count": null,
   "metadata": {},
   "outputs": [],
   "source": [
    "inv[\"InvSize\"] = inv[\"BP2_2.1\"] - inv[\"BP1_1.1\"] +1\n",
    "inv[\"logInvSize\"] = np.log10(inv[\"InvSize\"])\n",
    "(\n",
    "    ggplot(inv)+\n",
    "    geom_boxplot(aes(x = \"chrTypes\", y = \"logInvSize\"))+\n",
    "    facet_grid(\". ~ OriginFixed\")+\n",
    "    ggtitle(\"Distribution of inversions sizes\")+\n",
    "    xlab(\"Chromosome types\")+ylab(\"log10(Inversion sizes)\")  \n",
    "\n",
    ")"
   ]
  },
  {
   "cell_type": "code",
   "execution_count": null,
   "metadata": {},
   "outputs": [],
   "source": [
    "figcounter+=1\n",
    "print(f\"Figure {figcounter}: Inversion sizes seem to be evenly distributed across chromosome types. \" )"
   ]
  },
  {
   "cell_type": "markdown",
   "metadata": {},
   "source": [
    "## Differences in distribution within chromosomes\n",
    "\n",
    "Similarly, the known, lage-scale recombination patterns within chromosome arms affect inversion incidence. We don't have much power in small autosomes to identify location patterns, but in big autosomes there is an important proportion of NAHR inversions occuring near telomeres, where recombination rates are higher. On the other hand, NH inversions tend to concentrate around the center of the chromosome arm (Figures 6,7,8). NH inversions distribution is similar to a simulated distribution that exemplifies how the probability of having two breaks at a suitable distance to generate an inversion is higher around the center of the arm than near centromeres and telomeres (Figure 9). \n"
   ]
  },
  {
   "cell_type": "code",
   "execution_count": null,
   "metadata": {},
   "outputs": [],
   "source": [
    "# Calculate chromosome arms\n",
    "# ---------------------------------------\n",
    "\n",
    "# Select centromeres as p arm End\n",
    "center = band[(band['gieStain'] == 'acen') & (band['name'].str.startswith('p') )]\n",
    "center = center[['chrom', 'chromEnd']]\n",
    "\n",
    "# Select chromosome end as q arm End\n",
    "groupedBand = band['chromEnd'].groupby(band['chrom'])\n",
    "end = DataFrame(groupedBand.max() )\n",
    "end.reset_index(level=['chrom'], inplace = True)\n",
    "\n",
    "# Set q arm Start\n",
    "end = pd.merge(end, center, on = 'chrom')\n",
    "end.set_axis(['chrom','chromEnd','chromStart'], axis = 1, inplace = True)\n",
    "\n",
    "# Set p arm Start\n",
    "center['chromStart'] = 0\n",
    "\n",
    "# Set p and q flags\n",
    "center['chromArm']='p'\n",
    "end['chromArm']='q'\n",
    "\n",
    "# Join data\n",
    "chromArms = pd.concat([center, end])\n",
    "\n",
    "# Armsize\n",
    "chromArms[\"ArmSize\"] = chromArms[\"chromEnd\"] - chromArms[\"chromStart\"] # no need to sum-rest, 0 based\n",
    "\n",
    "\n",
    "\n",
    "# Calculate % of arm in which the center of the inversion is placed\n",
    "# ---------------------------------------\n",
    "\n",
    "# Make center of inversion\n",
    "inv[\"Center_pos\"] = inv[\"BP1_1.1\"] + ((inv[\"BP2_2.1\"]- inv[\"BP1_1.1\"] +1 )/2) -1 # now it is 0-based\n",
    "\n",
    "# For each inversion, calculate chromosome arm\n",
    "inv[\"chromArm\"] = [ chromArms[(chromArms.chromStart < row.Center_pos )& (chromArms.chromEnd > row.Center_pos) & (row.Chr == chromArms.chrom)][\"chromArm\"].iloc[0] for index, row in inv.iterrows() ]\n",
    "\n",
    "# Calculate % of arm where inversion is, 0 = start, 100 = end\n",
    "percList = []\n",
    "\n",
    "for index, row in inv.iterrows():\n",
    "    myrow = chromArms[(chromArms.chrom == row.Chr) & (chromArms.chromArm == row.chromArm)].iloc[0]\n",
    "    value = ((row.Center_pos - myrow.chromStart ) / myrow.ArmSize ) * 100\n",
    "    percList.append(value)\n",
    "\n",
    "inv[\"armPerc\"] = percList\n",
    "\n",
    "# Change percentages to be 0 = centromere, 100 = telomere\n",
    "mask = (inv.chromArm == \"p\")\n",
    "inv_valid = inv[mask]\n",
    "\n",
    "inv[\"armPerc_Telocen\"] = inv[\"armPerc\"]\n",
    "inv.loc[mask, 'armPerc_Telocen'] = 100 - inv_valid[\"armPerc\"]"
   ]
  },
  {
   "cell_type": "code",
   "execution_count": null,
   "metadata": {},
   "outputs": [],
   "source": [
    "(\n",
    "    ggplot(inv)+\n",
    "    geom_histogram(aes(x = \"armPerc_Telocen\"), bins=10)+\n",
    "    facet_grid(\"chrTypes ~ .\", scales = \"free\")+\n",
    "    ggtitle(\"Distribution of inversions along chromosome arms\")+\n",
    "    xlab(\"Chromosome arm positional percentage (Centromere to Telomere)\")+ylab(\"Inversion counts\")  \n",
    ")"
   ]
  },
  {
   "cell_type": "code",
   "execution_count": null,
   "metadata": {},
   "outputs": [],
   "source": [
    "figcounter+=1\n",
    "print(f\"Figure {figcounter}: Distribution of inversion counts along chromosome arms, where 0 is the centromere and 100 is the telomere. Inversions seem to be located preferently around centromeres when not taking into account inversion origin, although in Sex chromosomes an Small Autosomes the first bin, most proximal to the centromere, is empty.\" )"
   ]
  },
  {
   "cell_type": "code",
   "execution_count": null,
   "metadata": {},
   "outputs": [],
   "source": [
    "(\n",
    "    ggplot(inv)+\n",
    "    geom_histogram(aes(x = \"armPerc_Telocen\"), bins=10)+\n",
    "    facet_grid(\"OriginFixed ~ .\", scales = \"free\")+\n",
    "    ggtitle(\"Distribution of inversions along chromosome arms\")+\n",
    "    xlab(\"Chromosome arm positional percentage (Centromere to Telomere)\")+ylab(\"Inversion counts\")  \n",
    ")"
   ]
  },
  {
   "cell_type": "code",
   "execution_count": null,
   "metadata": {},
   "outputs": [],
   "source": [
    "figcounter+=1\n",
    "print(f\"Figure {figcounter}: Distribution of inversion counts along chromosome arms, where 0 is the centromere and 100 is the telomere. NAHR inversions are preferently located near centromeres and telomeres, while NH inversions seem to be more dsitributed along the chromosome arm. \" )"
   ]
  },
  {
   "cell_type": "code",
   "execution_count": null,
   "metadata": {},
   "outputs": [],
   "source": [
    "(\n",
    "    ggplot(inv)+\n",
    "    geom_histogram(aes(x = \"armPerc_Telocen\"), bins=5)+\n",
    "    facet_wrap(\"~ chrTypes + OriginFixed\", scales = \"free\")+\n",
    "    ggtitle(\"Distribution of inversions along chromosome arms\")+\n",
    "    xlab(\"Chromosome arm positional percentage (Centromere to Telomere)\")+ylab(\"Inversion counts\")  \n",
    ")"
   ]
  },
  {
   "cell_type": "code",
   "execution_count": null,
   "metadata": {},
   "outputs": [],
   "source": [
    "figcounter+=1\n",
    "print(f\"Figure {figcounter}: Distribution of inversion counts along chromosome arms, where 0 is the centromere and 100 is the telomere. When looking at all the categories, we loose definition, especially for small chromosomes. The most evident patterns can be observed in Big chromosomes: NH inversions concentrate in the middle of the chromosome arm while most NAHR generate near telomeres.\" )"
   ]
  },
  {
   "cell_type": "code",
   "execution_count": null,
   "metadata": {},
   "outputs": [],
   "source": [
    "chrom_start = 0\n",
    "chrom_end = 125000000 # chromosome 1 p arm size\n",
    "inv_size = inv[inv.OriginFixed == \"NH\"][\"InvSize\"] /2\n",
    "multiplicator = 10\n",
    "\n",
    "random.seed(1)\n",
    "choices = np.array([random.randint(chrom_start, chrom_end) for _ in range(inv_size.count() * multiplicator) ])\n",
    "\n",
    "choices_start = choices - inv_size.repeat(multiplicator) /2\n",
    "choices_end = choices + inv_size.repeat(multiplicator) /2\n",
    "\n",
    "accepted = choices[(choices_start >= 0) & (choices_end <= chrom_end)]\n",
    "\n",
    "(\n",
    "    ggplot(DataFrame(accepted))+\n",
    "    geom_histogram(aes(x = \"accepted\"), bins = 5)+\n",
    "    ggtitle(\"Distribution of randomly generated fragments\")+\n",
    "    xlab(\"Chromosome arm positional percentage (Centromere to Telomere)\\n Simulated chr1.p\")+ylab(\"Simulated inversion counts\")  \n",
    ")"
   ]
  },
  {
   "cell_type": "code",
   "execution_count": null,
   "metadata": {},
   "outputs": [],
   "source": [
    "figcounter+=1\n",
    "print(f\"Figure {figcounter}: Simulated distribution of inversions along a chromosome arm. One random point in the map was assigned to each of the {inv_size.count()} NH inversions, and then the corresponding breakpoints calculated according to inversion size. If inversion breakpoints fell outside the map limits, the inversion was discarded. This process was repeated {multiplicator} times.\" )\n"
   ]
  },
  {
   "cell_type": "markdown",
   "metadata": {},
   "source": [
    "## By chromosome regions "
   ]
  },
  {
   "cell_type": "code",
   "execution_count": null,
   "metadata": {},
   "outputs": [],
   "source": [
    "# Make fragments\n",
    "# -----------------------------------------\n",
    "\n",
    "fragCount = 5\n",
    "\n",
    "allChromRegions = DataFrame()\n",
    "for ch in recRate.Chromosome.unique(): \n",
    "    minirate = recRate[(recRate.Chromosome == ch) & (recRate.Position >0) ]\n",
    "\n",
    "    win = round(max(minirate.Position)/fragCount)\n",
    "    positions = range(0,max(minirate.Position), win) \n",
    "    means = [ minirate[(minirate.Position >= r) & (minirate.Position < r+win)].Rate.mean() for r in positions ]\n",
    "\n",
    "    averages = DataFrame({\"Positions\" : positions, \"MeanRates\" : means, \"Positions_end\": range(win, max(minirate.Position) + win, win), \"Chromosome\":ch})\n",
    "    allChromRegions = allChromRegions.append(averages)\n",
    "\n",
    "    allChromRegions.Chromosome = pd.Categorical(allChromRegions.Chromosome, categories = chrNames)\n",
    "# Test regions\n",
    "# ----------------------------------------\n",
    "\n",
    "(ggplot(allChromRegions)+\n",
    "    geom_rect(aes(xmin = \"Positions\", xmax = \"Positions_end\",   ymax = \"MeanRates\", ymin = 0))+\n",
    "    facet_wrap(\"Chromosome\", scales = \"free\")\n",
    ")"
   ]
  },
  {
   "cell_type": "code",
   "execution_count": null,
   "metadata": {},
   "outputs": [],
   "source": [
    "# Calculate the same as before for each region\n",
    "# -----------------------------------------------------\n",
    "# Make table for per-chromosome analyses\n",
    "#----------------------------------------\n",
    "\n",
    "# Set chromosome names list\n",
    "# a = np.char.array(list(map(str,range(1,23)))+[\"X\", \"Y\"])\n",
    "# b = np.char.array([\"chr\"] * 24)\n",
    "# chrNames = b+a \n",
    "# chrTypes = ( [\"BigAutosome\"] * 12 + [\"SmallAutosome\"] * 10 + [\"SexChr\"] * 2)\n",
    "\n",
    "# chromNames = DataFrame({\"Chromosome\" : chrNames, \"chromType\" : chrTypes})\n",
    "# allChromRegions = allChromRegions.merge(chromNames)\n"
   ]
  },
  {
   "cell_type": "code",
   "execution_count": null,
   "metadata": {},
   "outputs": [],
   "source": [
    "# Now calculate the incidences for each segment\n",
    "# ------------------------------------------------\n",
    "\n",
    "# Number of invs\n",
    "inv[\"CenterPos\"] = inv[\"BP1_1.1\"] + ((inv[\"BP2_2.1\"]- inv[\"BP1_1.1\"] +1 )/2) -1 # now it is 0-based\n",
    "inv[\"CenterBP1\"] = inv[\"BP1_1.1\"] + ((inv[\"BP1_2.1\"]- inv[\"BP1_1.1\"] +1 )/2) -1 # now it is 0-based\n",
    "inv[\"CenterBP2\"] = inv[\"BP2_1.1\"] + ((inv[\"BP2_2.1\"]- inv[\"BP2_1.1\"] +1 )/2) -1 # now it is 0-based\n",
    "\n",
    "allChromRegions[\"invCenters\"] = [len(inv[(inv.Chr == row[\"Chromosome\"]) & (inv.CenterPos >= row[\"Positions\"]) & (inv.CenterPos < row[\"Positions_end\"])].index) for index, row in allChromRegions.iterrows()]\n",
    "\n",
    "allChromRegions[\"invBreakpoints\"] = [\n",
    "    len(inv[(inv.Chr == row[\"Chromosome\"]) & (inv.CenterBP1 >= row[\"Positions\"]) & (inv.CenterBP1 < row[\"Positions_end\"])].index) +\n",
    "    len(inv[(inv.Chr == row[\"Chromosome\"]) & (inv.CenterBP2 >= row[\"Positions\"]) & (inv.CenterBP2 < row[\"Positions_end\"])].index) \n",
    "    for index, row in allChromRegions.iterrows()\n",
    "    ]\n",
    "\n",
    "# Number of invs of each type\n",
    "## NH\n",
    "allChromRegions[\"NHCenters\"] = [\n",
    "    len(inv[(inv.Chr == row[\"Chromosome\"]) & (inv.CenterPos >= row[\"Positions\"]) & (inv.CenterPos < row[\"Positions_end\"]) & (inv.OriginFixed == \"NH\" )].index) \n",
    "    for index, row in allChromRegions.iterrows()\n",
    "    ]\n",
    "\n",
    "allChromRegions[\"NHBreakpoints\"] = [\n",
    "    len(inv[(inv.Chr == row[\"Chromosome\"]) & (inv.CenterBP1 >= row[\"Positions\"]) & (inv.CenterBP1 < row[\"Positions_end\"]) & (inv.OriginFixed == \"NH\" )].index) +\n",
    "    len(inv[(inv.Chr == row[\"Chromosome\"]) & (inv.CenterBP2 >= row[\"Positions\"]) & (inv.CenterBP2 < row[\"Positions_end\"]) & (inv.OriginFixed == \"NH\" )].index) \n",
    "    for index, row in allChromRegions.iterrows()\n",
    "    ]\n",
    "\n",
    "## NAHR\n",
    "allChromRegions[\"NAHRCenters\"] = [\n",
    "    len(inv[(inv.Chr == row[\"Chromosome\"]) & (inv.CenterPos >= row[\"Positions\"]) & (inv.CenterPos < row[\"Positions_end\"]) & (inv.OriginFixed == \"NAHR\" )].index) \n",
    "    for index, row in allChromRegions.iterrows()\n",
    "    ]\n",
    "\n",
    "allChromRegions[\"NAHRBreakpoints\"] = [\n",
    "    len(inv[(inv.Chr == row[\"Chromosome\"]) & (inv.CenterBP1 >= row[\"Positions\"]) & (inv.CenterBP1 < row[\"Positions_end\"]) & (inv.OriginFixed == \"NAHR\" )].index) +\n",
    "    len(inv[(inv.Chr == row[\"Chromosome\"]) & (inv.CenterBP2 >= row[\"Positions\"]) & (inv.CenterBP2 < row[\"Positions_end\"]) & (inv.OriginFixed == \"NAHR\" )].index) \n",
    "    for index, row in allChromRegions.iterrows()\n",
    "    ]\n",
    "\n",
    "# Count repeats and intrachromosomal repeats\n",
    "segDups.chromCenter = segDups[\"chromStart\"] + ((segDups[\"chromEnd\"]- segDups[\"chromStart\"] +1 )/2) -1\n",
    "segDups.otherCenter = segDups[\"otherStart\"] + ((segDups[\"otherEnd\"]- segDups[\"otherStart\"] +1 )/2) -1\n",
    "## All repeats\n",
    "allChromRegions[\"allRepCounts\"] =[\n",
    "    len(segDups[(segDups.chrom == row[\"Chromosome\"]) & (segDups.chromCenter >= row[\"Positions\"]) & (segDups.chromCenter < row[\"Positions_end\"])].index) + \n",
    "    len(segDups[(segDups.otherChrom == row[\"Chromosome\"]) & (segDups.otherCenter >= row[\"Positions\"]) & (segDups.otherCenter < row[\"Positions_end\"])].index)\n",
    "    for index, row in allChromRegions.iterrows()\n",
    "    ]\n",
    "## Intrachromosomal repeats, each copy counted different because they can be in different regions \n",
    "allChromRegions[\"intraRepCounts\"] = [\n",
    "    len(segDups[(segDups.chrom == segDups.otherChrom) & (segDups.chrom == row[\"Chromosome\"]) & (segDups.chromCenter >= row[\"Positions\"]) & (segDups.chromCenter < row[\"Positions_end\"])].index) + \n",
    "    len(segDups[(segDups.chrom == segDups.otherChrom) & (segDups.otherChrom == row[\"Chromosome\"]) & (segDups.otherCenter >= row[\"Positions\"]) & (segDups.otherCenter < row[\"Positions_end\"])].index)\n",
    "    for index, row in allChromRegions.iterrows()\n",
    "    ] \n",
    "\n",
    "# Add segment size\n",
    "allChromRegions[\"Length(bp)\"] = allChromRegions.Positions_end - allChromRegions.Positions\n",
    "\n",
    "# In this dataset we only have autosomes"
   ]
  },
  {
   "cell_type": "code",
   "execution_count": null,
   "metadata": {},
   "outputs": [],
   "source": [
    "%%R -i allChromRegions -h 3508 -w 2480 -r 300\n",
    "\n",
    "library(\"corrplot\")\n",
    "\n",
    "rownames(allChromRegions) <- paste0(allChromRegions$Chromosome, allChromRegions$Positions)\n",
    "\n",
    "toPlot <- allChromRegions[which(!is.na(allChromRegions$MeanRates)),!(colnames(allChromRegions) %in% c(\"Positions\", \"Positions_end\", \"Chromosome\"))]\n",
    "\n",
    "toPlotCor = cor(as.matrix(toPlot))\n",
    "testRes = cor.mtest(toPlot, conf.level = 0.95)\n",
    "\n",
    "corrplot(toPlotCor, p.mat = testRes$p, sig.level = c(0.001, 0.01, 0.05), pch.cex = 0.9, insig = 'label_sig', type = \"lower\", method = \"square\", col = COL2('PRGn'), diag = FALSE)"
   ]
  },
  {
   "cell_type": "code",
   "execution_count": null,
   "metadata": {},
   "outputs": [],
   "source": [
    "%%R -i allChromRegions -h 3508 -w 2480 -r 300\n",
    "\n",
    "library(\"PerformanceAnalytics\")\n",
    "\n",
    "\n",
    "rownames(allChromRegions) <- paste0(allChromRegions$Chromosome, allChromRegions$Positions)\n",
    "\n",
    "toPlot <- allChromRegions[which(!is.na(allChromRegions$MeanRates)),!(colnames(allChromRegions) %in% c(\"Positions\", \"Positions_end\", \"Chromosome\"))]\n",
    "\n",
    "\n",
    "chart.Correlation(toPlot, histogram=TRUE, pch = \"+\")"
   ]
  },
  {
   "cell_type": "code",
   "execution_count": null,
   "metadata": {},
   "outputs": [],
   "source": []
  },
  {
   "cell_type": "markdown",
   "metadata": {},
   "source": [
    "# Supplementary: all tests and figures \n"
   ]
  }
 ],
 "metadata": {
  "celltoolbar": "Edit Metadata",
  "interpreter": {
   "hash": "76d9afec17f4caf1537deb82d7ded46444858aa9fbc0e108ba0ca185db51c09c"
  },
  "kernelspec": {
   "display_name": "Python 3",
   "language": "python",
   "name": "python3"
  },
  "language_info": {
   "codemirror_mode": {
    "name": "ipython",
    "version": 3
   },
   "file_extension": ".py",
   "mimetype": "text/x-python",
   "name": "python",
   "nbconvert_exporter": "python",
   "pygments_lexer": "ipython3",
   "version": "3.6.9"
  },
  "varInspector": {
   "cols": {
    "lenName": 16,
    "lenType": 16,
    "lenVar": 40
   },
   "kernels_config": {
    "python": {
     "delete_cmd_postfix": "",
     "delete_cmd_prefix": "del ",
     "library": "var_list.py",
     "varRefreshCmd": "print(var_dic_list())"
    },
    "r": {
     "delete_cmd_postfix": ") ",
     "delete_cmd_prefix": "rm(",
     "library": "var_list.r",
     "varRefreshCmd": "cat(var_dic_list()) "
    }
   },
   "types_to_exclude": [
    "module",
    "function",
    "builtin_function_or_method",
    "instance",
    "_Feature"
   ],
   "window_display": false
  }
 },
 "nbformat": 4,
 "nbformat_minor": 2
}
